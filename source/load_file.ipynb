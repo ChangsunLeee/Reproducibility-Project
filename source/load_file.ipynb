{
 "cells": [
  {
   "cell_type": "code",
   "execution_count": 3,
   "metadata": {},
   "outputs": [
    {
     "name": "stdout",
     "output_type": "stream",
     "text": [
      "1.7.0\n",
      "True\n"
     ]
    }
   ],
   "source": [
    "import torch\n",
    "print(torch.__version__)\n",
    "\n",
    "print(torch.cuda.is_available())"
   ]
  },
  {
   "cell_type": "code",
   "execution_count": 20,
   "metadata": {},
   "outputs": [
    {
     "name": "stdout",
     "output_type": "stream",
     "text": [
      "Downloading...\n",
      "From (original): https://drive.google.com/uc?id=1v-0wUgcxtuohllbVQn8Vwh04UPqMRDO0\n",
      "From (redirected): https://drive.google.com/uc?id=1v-0wUgcxtuohllbVQn8Vwh04UPqMRDO0&confirm=t&uuid=ca93446a-f02a-404c-91c0-7e17804ac43a\n",
      "To: /main.py\n",
      "100%|███████████████████████████████████████| 3.93k/3.93k [00:00<00:00, 449kB/s]\n"
     ]
    }
   ],
   "source": [
    "# https://drive.google.com/file/d/1v-0wUgcxtuohllbVQn8Vwh04UPqMRDO0/view?usp=drive_link - main.py\n",
    "#!gdown https://drive.google.com/uc?id=1v-0wUgcxtuohllbVQn8Vwh04UPqMRDO0\n",
    "# https://drive.google.com/file/d/1utZLBeCDH4nqvZiq7XbysqXFJSY7O9Mm/view?usp=drive_link - util.py\n",
    "#!gdown https://drive.google.com/uc?id=1utZLBeCDH4nqvZiq7XbysqXFJSY7O9Mm\n",
    "# https://drive.google.com/file/d/1v4hI2LPsh4UoaSnnG9A5lJ-dRzNEscid/view?usp=drive_link - model.py\n",
    "#!gdown https://drive.google.com/uc?id=1v4hI2LPsh4UoaSnnG9A5lJ-dRzNEscid\n",
    "# https://drive.google.com/file/d/1v5rNkFB-3iiXthySCWK5y2IyuhXyHH3Z/view?usp=drive_link - diginetica_train\n",
    "#!gdown https://drive.google.com/uc?id=1v5rNkFB-3iiXthySCWK5y2IyuhXyHH3Z\n",
    "\n",
    "# https://drive.google.com/file/d/1v9m3hVKEnddOSZMHJJsk4uxQ5-3X2uCe/view?usp=drive_link - diginetica_train_sliced\n",
    "#!gdown https://drive.google.com/uc?id=1v9m3hVKEnddOSZMHJJsk4uxQ5-3X2uCe\n",
    "\n",
    "# https://drive.google.com/file/d/1v5hnEzeFIkaTcHn8qep9yTXwgcRC6H7c/view?usp=drive_link - diginetica_test\n",
    "#!gdown https://drive.google.com/uc?id=1v5hnEzeFIkaTcHn8qep9yTXwgcRC6H7c\n",
    "\n",
    "# https://drive.google.com/file/d/1v9-SyR6olQyuKuVlH5JKnqDkexd-58JJ/view?usp=drive_link - diginetica_test_scliced\n",
    "#!gdown https://drive.google.com/uc?id=1v9-SyR6olQyuKuVlH5JKnqDkexd-58JJ"
   ]
  },
  {
   "cell_type": "code",
   "execution_count": 26,
   "metadata": {},
   "outputs": [
    {
     "name": "stdout",
     "output_type": "stream",
     "text": [
      "__pycache__\t\tdiginetica_test_sliced.txt   lib       opt   sys\n",
      "bin\t\t\tdiginetica_train.txt\t     lib64     proc  tmp\n",
      "boot\t\t\tdiginetica_train_sliced.txt  main.py   root  usr\n",
      "dev\t\t\tetc\t\t\t     media     run   util.py\n",
      "diginetica_results.csv\thome\t\t\t     mnt       sbin  var\n",
      "diginetica_test.txt\thttps:\t\t\t     model.py  srv   workspace\n"
     ]
    }
   ],
   "source": [
    "!ls"
   ]
  },
  {
   "cell_type": "code",
   "execution_count": 6,
   "metadata": {},
   "outputs": [
    {
     "name": "stdout",
     "output_type": "stream",
     "text": [
      "Collecting numba\n",
      "  Downloading numba-0.58.1-cp38-cp38-manylinux2014_x86_64.manylinux_2_17_x86_64.whl (3.7 MB)\n",
      "\u001b[K     |████████████████████████████████| 3.7 MB 1.3 MB/s eta 0:00:01\n",
      "\u001b[?25hCollecting importlib-metadata; python_version < \"3.9\"\n",
      "  Downloading importlib_metadata-7.1.0-py3-none-any.whl (24 kB)\n",
      "Collecting numpy<1.27,>=1.22\n",
      "  Downloading numpy-1.24.4-cp38-cp38-manylinux_2_17_x86_64.manylinux2014_x86_64.whl (17.3 MB)\n",
      "\u001b[K     |████████████████████████████████| 17.3 MB 56 kB/s  eta 0:00:01\n",
      "\u001b[?25hCollecting llvmlite<0.42,>=0.41.0dev0\n",
      "  Downloading llvmlite-0.41.1-cp38-cp38-manylinux_2_17_x86_64.manylinux2014_x86_64.whl (43.6 MB)\n",
      "\u001b[K     |████████████████████████████████| 43.6 MB 46 kB/s  eta 0:00:01\n",
      "\u001b[?25hCollecting zipp>=0.5\n",
      "  Downloading zipp-3.18.2-py3-none-any.whl (8.3 kB)\n",
      "Installing collected packages: zipp, importlib-metadata, numpy, llvmlite, numba\n",
      "  Attempting uninstall: numpy\n",
      "    Found existing installation: numpy 1.19.2\n",
      "    Uninstalling numpy-1.19.2:\n",
      "      Successfully uninstalled numpy-1.19.2\n",
      "Successfully installed importlib-metadata-7.1.0 llvmlite-0.41.1 numba-0.58.1 numpy-1.24.4 zipp-3.18.2\n"
     ]
    }
   ],
   "source": [
    "#!pip install numba"
   ]
  },
  {
   "cell_type": "code",
   "execution_count": 4,
   "metadata": {},
   "outputs": [
    {
     "name": "stdout",
     "output_type": "stream",
     "text": [
      "Namespace(batchSize=100, beta=0.01, dataset='diginetica', embSize=100, epoch=30, filter=False, l2=1e-05, layer=3, lr=0.001)\n",
      "current path:  /root/DHCN/source\n",
      "/root/DHCN/source/util.py:42: RuntimeWarning: divide by zero encountered in divide\n",
      "  DH = H.T.multiply(1.0/H.sum(axis=1).reshape(1, -1))\n",
      "Epochs:   0%|                                            | 0/30 [00:00<?, ?it/s]start training:  2024-05-17 05:48:40.847006\n",
      "Epochs:   0%|                                          | 0/7195 [00:00<?, ?it/s]/root/DHCN/source/model.py:203: UserWarning: To copy construct from a tensor, it is recommended to use sourceTensor.clone().detach() or sourceTensor.clone().detach().requires_grad_(True), rather than torch.tensor(sourceTensor).\n",
      "  sess_emb_hgnn = torch.tensor(sess_emb_hgnn).cuda()  # $tsy -> tensor instead ndarray (on GPU)\n",
      "Epochs:  59%|██████████████████▍            | 4273/7195 [16:51<10:41,  4.56it/s]"
     ]
    }
   ],
   "source": [
    "!python /root/DHCN/source/main.py"
   ]
  }
 ],
 "metadata": {
  "kernelspec": {
   "display_name": "base",
   "language": "python",
   "name": "python3"
  },
  "language_info": {
   "codemirror_mode": {
    "name": "ipython",
    "version": 3
   },
   "file_extension": ".py",
   "mimetype": "text/x-python",
   "name": "python",
   "nbconvert_exporter": "python",
   "pygments_lexer": "ipython3",
   "version": "3.8.3"
  }
 },
 "nbformat": 4,
 "nbformat_minor": 2
}
